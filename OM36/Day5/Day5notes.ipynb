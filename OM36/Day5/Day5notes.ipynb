{
 "cells": [
  {
   "cell_type": "markdown",
   "metadata": {},
   "source": [
    "Notes for Day 5"
   ]
  },
  {
   "cell_type": "markdown",
   "metadata": {},
   "source": [
    "1. shortcut for signed char, int to binary \n",
    "2. same for unsigned char, %u\n",
    "3. short int, %hd\n",
    "4. program consists for 3 basic parts after variable declaration:\n",
    "   1. input\n",
    "   2. processing\n",
    "   3. output\n",
    "5. % and / operator \n",
    "6. printing table of 2 in different format on terminal\n",
    "7. lower data type temporarily gets promoted to higher data type\n",
    "8. typecast (double)num \n",
    "9. sizeof() is evaluated at compile time and that means it cannot process any input functions"
   ]
  }
 ],
 "metadata": {
  "language_info": {
   "name": "python"
  },
  "orig_nbformat": 4
 },
 "nbformat": 4,
 "nbformat_minor": 2
}
