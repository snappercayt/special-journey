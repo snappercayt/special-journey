{
 "cells": [
  {
   "cell_type": "markdown",
   "metadata": {},
   "source": [
    "This is just for notes for day 4"
   ]
  },
  {
   "cell_type": "markdown",
   "metadata": {},
   "source": [
    "1. C Programming \n"
   ]
  },
  {
   "cell_type": "markdown",
   "metadata": {},
   "source": [
    "1. Width Specifier %6d right justified with space on left\n",
    "2.     float fvar = 12.50; //init + declar\n",
    "       printf(\"%06.2f\", fvar);\n",
    "3. Escape Sequences\n",
    "4. sizeof() operator which returns int type size in bytes of that type\n",
    "5. number systems\n",
    "6. if number is positive MSB - 0, if number is negative MSB - 1\n",
    "7. The number 2,147,483,647 (or hexadecimal 7FFFFFFF16) is the maximum positive value for a 32-bit signed binary integer in computing.\n",
    "8. type modifier signed, unsigned, short, long\n",
    "9. char ascii\n",
    "10. scanf\n",
    "\n"
   ]
  },
  {
   "cell_type": "markdown",
   "metadata": {},
   "source": []
  }
 ],
 "metadata": {
  "language_info": {
   "name": "python"
  },
  "orig_nbformat": 4
 },
 "nbformat": 4,
 "nbformat_minor": 2
}
