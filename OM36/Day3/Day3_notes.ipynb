{
 "cells": [
  {
   "cell_type": "markdown",
   "metadata": {},
   "source": [
    "This is just to write down things I had on my mind during the day 3 lecture"
   ]
  },
  {
   "cell_type": "markdown",
   "metadata": {},
   "source": [
    "#### 1. FILE NAME CONVENTION\n",
    "1. Day3_1.c - day 3 ka 1st program\n",
    "2. tried second.c program from notes"
   ]
  },
  {
   "cell_type": "markdown",
   "metadata": {},
   "source": [
    "#### 2. C PROGRAMMING\n",
    "1. C program is made of multiple functions\n",
    "2. functions are made of multiple statements\n",
    "3. statements can contain various things called 'tokens' such as\n",
    "   1. keywords\n",
    "   2. data types\n",
    "   3. identifiers\n",
    "   4. variables\n",
    "   5. constants\n",
    "   6. operators"
   ]
  },
  {
   "cell_type": "markdown",
   "metadata": {},
   "source": [
    "#### 2.1 KEYWORDS\n",
    "1. keywords are predefined words with special meaning. \n",
    "2. C language has 32 keywords\n",
    "3. list of keywords [from here](https://www.programiz.com/c-programming/list-all-keywords-c-language)\n",
    "4. <table summary=\"List of all keywords used in C programming language.\"><thead><tr><th colspan=\"4\">Keywords in C Programming</th>\n",
    "\t\t</tr></thead><tbody><tr><td><a href=\"#auto\">auto</a></td>\n",
    "\t\t\t<td><a href=\"#break_continue\">break</a></td>\n",
    "\t\t\t<td><a href=\"#switch_case_default\">case</a></td>\n",
    "\t\t\t<td><a href=\"#char\">char</a></td>\n",
    "\t\t</tr><tr><td><a href=\"#const\">const</a></td>\n",
    "\t\t\t<td><a href=\"#break_continue\">continue</a></td>\n",
    "\t\t\t<td><a href=\"#switch_case_default\">default</a></td>\n",
    "\t\t\t<td><a href=\"#do_while\">do</a></td>\n",
    "\t\t</tr><tr><td><a href=\"#double_float\">double</a></td>\n",
    "\t\t\t<td><a href=\"#if_else\">else</a></td>\n",
    "\t\t\t<td><a href=\"#enum\">enum</a></td>\n",
    "\t\t\t<td><a href=\"#extern\">extern</a></td>\n",
    "\t\t</tr><tr><td><a href=\"#double_float\">float</a></td>\n",
    "\t\t\t<td><a href=\"#for\">for</a></td>\n",
    "\t\t\t<td><a href=\"#goto\">goto</a></td>\n",
    "\t\t\t<td><a href=\"#if_else\">if</a></td>\n",
    "\t\t</tr><tr><td><a href=\"#int\">int</a></td>\n",
    "\t\t\t<td><a href=\"#short_long_signed_unsigned\">long</a></td>\n",
    "\t\t\t<td><a href=\"#register\">register</a></td>\n",
    "\t\t\t<td><a href=\"#return\">return</a></td>\n",
    "\t\t</tr><tr><td><a href=\"#short_long_signed_unsigned\">short</a></td>\n",
    "\t\t\t<td><a href=\"#short_long_signed_unsigned\">signed</a></td>\n",
    "\t\t\t<td><a href=\"#sizeof\">sizeof</a></td>\n",
    "\t\t\t<td><a href=\"#static\">static</a></td>\n",
    "\t\t</tr><tr><td><a href=\"#struct\">struct</a></td>\n",
    "\t\t\t<td><a href=\"#switch_case_default\">switch</a></td>\n",
    "\t\t\t<td><a href=\"#typedef\">typedef</a></td>\n",
    "\t\t\t<td><a href=\"#union\">union</a></td>\n",
    "\t\t</tr><tr><td><a href=\"#short_long_signed_unsigned\">unsigned</a></td>\n",
    "\t\t\t<td><a href=\"#void\">void</a></td>\n",
    "\t\t\t<td><a href=\"#volatile\">volatile</a></td>\n",
    "\t\t\t<td><a href=\"#do_while\">while</a></td>\n",
    "\t\t</tr></tbody></table>\n",
    "   "
   ]
  },
  {
   "cell_type": "markdown",
   "metadata": {},
   "source": [
    "#### 2.2 IDENTIFIERS\n",
    "1. identifiers gives names to variables, functions, macros, pre-defined types, etc.\n",
    "2. first character should be alphabet or _ and should not be a number or comma or blank or special symbol\n",
    "3. best practice to give meaninful name\n",
    "4. case sensitive eg. Id and id are different and unique. \n",
    "5. example identifiers\n",
    "   1. Var_1 //valid\n",
    "   2. 1_Var //invalid\n",
    "   3. #_var //invalid\n",
    "   4. ,Var //invalid\n",
    "   5. Basic Salary //invalid"
   ]
  },
  {
   "cell_type": "markdown",
   "metadata": {},
   "source": [
    "#### 2.3 DATA TYPES, VARIABLES AND CONSTANTS\n",
    "1. C allows computations to be performed on various data types: \n",
    "   1. Numerical: Whole numbers, Real numbers\n",
    "   2. Character: Single character, Strings\n",
    "2. Fixed data values are said to be constants\n",
    "   1. example constants -  '1', '2.4', 'a', '0x56', '-29.23', 'machine', etc. \n",
    "3. data stored is stored in memory locations indentified by names called as variables.\n",
    "   1. variables must be declared "
   ]
  },
  {
   "cell_type": "markdown",
   "metadata": {},
   "source": [
    "#### 2.4 OPERATORS\n",
    "1. for operations"
   ]
  }
 ],
 "metadata": {
  "interpreter": {
   "hash": "82d4c6f819cf47785f735f902f00da8643513d08dab4f4c7470bccf934b8d2d6"
  },
  "kernelspec": {
   "display_name": "Python 3.7.0 64-bit",
   "language": "python",
   "name": "python3"
  },
  "language_info": {
   "name": "python",
   "version": "3.7.0"
  },
  "orig_nbformat": 4
 },
 "nbformat": 4,
 "nbformat_minor": 2
}
